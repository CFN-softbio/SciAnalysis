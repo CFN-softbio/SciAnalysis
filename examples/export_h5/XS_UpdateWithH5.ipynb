{
 "cells": [
  {
   "cell_type": "code",
   "execution_count": 1,
   "metadata": {},
   "outputs": [],
   "source": [
    "%matplotlib inline"
   ]
  },
  {
   "cell_type": "code",
   "execution_count": 2,
   "metadata": {},
   "outputs": [],
   "source": [
    "import sys, os\n",
    "SciAnalysis_PATH='/home/group/Software/SciAnalysis/'\n",
    "SciAnalysis_PATH in sys.path or sys.path.append(SciAnalysis_PATH)"
   ]
  },
  {
   "cell_type": "code",
   "execution_count": 3,
   "metadata": {},
   "outputs": [],
   "source": [
    "import glob\n",
    "from SciAnalysis import tools\n",
    "from SciAnalysis.XSAnalysis.Data import *\n",
    "from SciAnalysis.XSAnalysis import Protocols"
   ]
  },
  {
   "cell_type": "code",
   "execution_count": null,
   "metadata": {},
   "outputs": [],
   "source": []
  },
  {
   "cell_type": "code",
   "execution_count": 4,
   "metadata": {},
   "outputs": [],
   "source": [
    "%run -i  /home/group/Software/SciAnalysis/SciAnalysis/XSAnalysis/Protocols.py"
   ]
  },
  {
   "cell_type": "code",
   "execution_count": 5,
   "metadata": {},
   "outputs": [],
   "source": [
    "# Experimental parameters\n",
    "########################################\n",
    "calibration = Calibration(wavelength_A=0.770088) # 16.1 keV\n",
    "#calibration = Calibration(wavelength_A=0.619920987) # 20.0 keV\n",
    "calibration.set_image_size(981, height=1043) # Pilatus1M\n",
    "calibration.set_pixel_size(pixel_size_um=172.0)\n",
    "calibration.set_distance(8.320) # 8.300 nominal detector distance\n",
    "calibration.set_beam_position(490.0, 656.0)\n",
    "mask_dir = SciAnalysis_PATH + '/SciAnalysis/XSAnalysis/masks/'\n",
    "mask = Mask(mask_dir+'Dectris/Pilatus1M_main_gaps-mask.png')\n",
    "#mask.load(mask_dir + 'Dectris/mask.png')"
   ]
  },
  {
   "cell_type": "code",
   "execution_count": 6,
   "metadata": {},
   "outputs": [],
   "source": [
    "bs = '/home/yuzhang/Test_SciAnalysis/XS/'\n",
    "source_dir = bs + 'data/'\n",
    "output_dir = bs + 'results/'"
   ]
  },
  {
   "cell_type": "code",
   "execution_count": 7,
   "metadata": {},
   "outputs": [],
   "source": [
    "load_args = { 'calibration' : calibration, \n",
    "             'mask' : mask,\n",
    "             }\n",
    "run_args = { 'verbosity' : 3,\n",
    "            }\n",
    "process = Protocols.ProcessorXS(load_args=load_args, run_args=run_args)"
   ]
  },
  {
   "cell_type": "code",
   "execution_count": 8,
   "metadata": {},
   "outputs": [
    {
     "name": "stdout",
     "output_type": "stream",
     "text": [
      "/home/yuzhang/Test_SciAnalysis/XS/data/AJ_exp1_x-0.4225_y0.1056_0.50s_299317.tif\n"
     ]
    }
   ],
   "source": [
    "fp  = 'AJ_exp1_x-0.4225_y0.1056_0.50s_299317.tif'\n",
    "\n",
    "infile = source_dir + fp\n",
    "\n",
    "print( infile )"
   ]
  },
  {
   "cell_type": "code",
   "execution_count": null,
   "metadata": {},
   "outputs": [],
   "source": []
  },
  {
   "cell_type": "code",
   "execution_count": 10,
   "metadata": {},
   "outputs": [
    {
     "name": "stdout",
     "output_type": "stream",
     "text": [
      "Running circular_average for AJ_exp1_x-0.4225_y0.1056_0.50s_299317\n",
      "Running thumbnails for AJ_exp1_x-0.4225_y0.1056_0.50s_299317\n",
      "Running circular_average_q2I for AJ_exp1_x-0.4225_y0.1056_0.50s_299317\n",
      "Running circular_average_q2I_fit for AJ_exp1_x-0.4225_y0.1056_0.50s_299317\n"
     ]
    }
   ],
   "source": [
    "protocols = [\n",
    "    #linecut_qr_fit(show_region=False, show=False, qz=0.0285, dq=0.006, q0=0.0030, sigma=0.0010, fit_range=[0.00, 0.010], plot_range=[0, 0.050, 0, None], trim_range=[0, 0.05]) ,\n",
    "    \n",
    "\n",
    "    #linecut_angle_fit_custom(q0=0.0135, dq=0.0035, show=False, show_region=False, toh5=True, overwrite_h5 = True ) ,   \n",
    "    #get_linecut_angle(q0=0.0135, dq=0.0035, show=False, show_region=False) ,       \n",
    "    \n",
    "    \n",
    "    circular_average(ylog=True, plot_range=[0, 0.15, None, None], toh5=True ) , \n",
    "    #circular_average_sum(ylog=True, plot_range=[0, 0.15, None, None]  ) ,     \n",
    "    Protocols.thumbnails(crop=None, resize=1.0, blur=None, cmap=cmap_vge, toh5=True) , \n",
    "    circular_average_q2I(show=False, q0=0.0140, qn_power=2.5, sigma=0.0008, \n",
    "                             plot_range=[0, 0.06, 0, None], fit_range=[0.008, 0.022], toh5=True) ,    \n",
    "    circular_average_q2I_fit(show=False, q0=0.0140, qn_power=2.5, sigma=0.0008, \n",
    "                             plot_range=[0, 0.06, 0, None], fit_range=[0.008, 0.022], toh5=True) ,\n",
    "        \n",
    "    \n",
    "    \n",
    "    #Protocols.metadata_extract(patterns=patterns) ,\n",
    "    ]\n",
    "\n",
    "process.run([infile], protocols, output_dir=output_dir, force=True)"
   ]
  },
  {
   "cell_type": "code",
   "execution_count": null,
   "metadata": {},
   "outputs": [],
   "source": []
  },
  {
   "cell_type": "markdown",
   "metadata": {},
   "source": [
    "## Load the saved h5 file"
   ]
  },
  {
   "cell_type": "code",
   "execution_count": 11,
   "metadata": {},
   "outputs": [],
   "source": [
    "hfile =   output_dir + 'AJ_exp1_x-0.4225_y0.1056_0.50s_299317.h5'"
   ]
  },
  {
   "cell_type": "code",
   "execution_count": 12,
   "metadata": {},
   "outputs": [],
   "source": [
    "h5r = h5todict( hfile )"
   ]
  },
  {
   "cell_type": "code",
   "execution_count": 13,
   "metadata": {},
   "outputs": [
    {
     "data": {
      "text/plain": [
       "dict_keys(['circular_average', 'circular_average_q2I', 'circular_average_q2I_fit', 'thumbnails'])"
      ]
     },
     "execution_count": 13,
     "metadata": {},
     "output_type": "execute_result"
    }
   ],
   "source": [
    "h5r.keys()"
   ]
  },
  {
   "cell_type": "code",
   "execution_count": 14,
   "metadata": {},
   "outputs": [
    {
     "data": {
      "text/plain": [
       "{'data': array([[7.63043023e-04, 3.01250000e+01, 8.43363182e-05, 1.33065251e+01],\n",
       "        [9.36020321e-04, 5.75555556e+01, 5.16622996e-05, 2.51676917e+01],\n",
       "        [1.08630606e-03, 1.13818182e+02, 4.38901682e-05, 5.44714747e+01],\n",
       "        ...,\n",
       "        [1.37652152e-01, 1.42857143e-01, 4.88277024e-05, 2.02041896e-01],\n",
       "        [1.37825280e-01, 3.00000000e-01, 4.76109034e-05, 3.27817717e-01],\n",
       "        [1.38015949e-01, 1.66666667e-01, 5.73289079e-05, 3.91101572e-01]]),\n",
       " 'label': array(['q', 'I(q)', 'q_err', 'I(q)_err'], dtype='<U8'),\n",
       " 'results': {}}"
      ]
     },
     "execution_count": 14,
     "metadata": {},
     "output_type": "execute_result"
    }
   ],
   "source": [
    "h5r['circular_average']"
   ]
  },
  {
   "cell_type": "code",
   "execution_count": null,
   "metadata": {},
   "outputs": [],
   "source": []
  },
  {
   "cell_type": "code",
   "execution_count": null,
   "metadata": {},
   "outputs": [],
   "source": []
  },
  {
   "cell_type": "markdown",
   "metadata": {},
   "source": [
    "# An example to save a dict as h5"
   ]
  },
  {
   "cell_type": "code",
   "execution_count": 15,
   "metadata": {},
   "outputs": [],
   "source": [
    "d = { 'data': np.arange(10), 'label':'data', 'results': {  'collected time': '2019/10/10', 'fit_res': { 'p0': 10 } } }"
   ]
  },
  {
   "cell_type": "code",
   "execution_count": 16,
   "metadata": {},
   "outputs": [
    {
     "name": "stderr",
     "output_type": "stream",
     "text": [
      "key (/cms/data) already exists. Not overwriting.\n",
      "key (/cms/label) already exists. Not overwriting.\n",
      "key (/cms/results/collected time) already exists. Not overwriting.\n",
      "key (/cms/results/fit_res/p0) already exists. Not overwriting.\n"
     ]
    }
   ],
   "source": [
    "dicttoh5( d, 'test.h5', h5path='/cms/', mode='a')"
   ]
  },
  {
   "cell_type": "code",
   "execution_count": 17,
   "metadata": {},
   "outputs": [
    {
     "data": {
      "text/plain": [
       "{'cms': {'data': array([0, 1, 2, 3, 4, 5, 6, 7, 8, 9]),\n",
       "  'label': 'data',\n",
       "  'results': {'collected time': '2019/10/10', 'fit_res': {'p0': array(10)}}},\n",
       " 'data': array([0, 1, 2, 3, 4, 5, 6, 7, 8, 9]),\n",
       " 'label': 'data',\n",
       " 'results': {'collected time': '2019/10/10', 'fit_res': {'p0': array(10)}}}"
      ]
     },
     "execution_count": 17,
     "metadata": {},
     "output_type": "execute_result"
    }
   ],
   "source": [
    "h5todict( 'test.h5' )"
   ]
  },
  {
   "cell_type": "code",
   "execution_count": null,
   "metadata": {},
   "outputs": [],
   "source": []
  },
  {
   "cell_type": "code",
   "execution_count": null,
   "metadata": {},
   "outputs": [],
   "source": []
  }
 ],
 "metadata": {
  "kernelspec": {
   "display_name": "Python 3",
   "language": "python",
   "name": "python3"
  },
  "language_info": {
   "codemirror_mode": {
    "name": "ipython",
    "version": 3
   },
   "file_extension": ".py",
   "mimetype": "text/x-python",
   "name": "python",
   "nbconvert_exporter": "python",
   "pygments_lexer": "ipython3",
   "version": "3.7.5"
  }
 },
 "nbformat": 4,
 "nbformat_minor": 2
}
