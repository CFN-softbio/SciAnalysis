{
 "cells": [
  {
   "cell_type": "code",
   "execution_count": 1,
   "metadata": {},
   "outputs": [],
   "source": [
    "%matplotlib inline"
   ]
  },
  {
   "cell_type": "code",
   "execution_count": 2,
   "metadata": {},
   "outputs": [],
   "source": [
    "import sys, os\n",
    "SciAnalysis_PATH='/home/yuzhang/Repos/SciAnalysis/'\n",
    "SciAnalysis_PATH in sys.path or sys.path.append(SciAnalysis_PATH)\n",
    "\n",
    "import glob\n",
    "from SciAnalysis import tools\n",
    "from SciAnalysis.XSAnalysis.Data import *\n",
    "from SciAnalysis.XSAnalysis import Protocols"
   ]
  },
  {
   "cell_type": "code",
   "execution_count": 3,
   "metadata": {},
   "outputs": [],
   "source": [
    "%run -i  /home/yuzhang/Repos/SciAnalysis/SciAnalysis/XSAnalysis/Protocols.py"
   ]
  },
  {
   "cell_type": "code",
   "execution_count": 4,
   "metadata": {},
   "outputs": [],
   "source": [
    "# Experimental parameters\n",
    "########################################\n",
    "calibration = Calibration(wavelength_A=0.770088) # 16.1 keV\n",
    "#calibration = Calibration(wavelength_A=0.619920987) # 20.0 keV\n",
    "calibration.set_image_size(981, height=1043) # Pilatus1M\n",
    "calibration.set_pixel_size(pixel_size_um=172.0)\n",
    "calibration.set_distance(8.320) # 8.300 nominal detector distance\n",
    "calibration.set_beam_position(490.0, 656.0)\n",
    "mask_dir = SciAnalysis_PATH + '/SciAnalysis/XSAnalysis/masks/'\n",
    "mask = Mask(mask_dir+'Dectris/Pilatus1M_main_gaps-mask.png')\n",
    "mask.load('./mask.png')"
   ]
  },
  {
   "cell_type": "code",
   "execution_count": 5,
   "metadata": {},
   "outputs": [],
   "source": [
    "bs = '/home/yuzhang/Transfer/Autonomous/saxs/XS/'\n",
    "source_dir = bs + 'data/'\n",
    "output_dir = bs + 'results/'"
   ]
  },
  {
   "cell_type": "code",
   "execution_count": 6,
   "metadata": {},
   "outputs": [],
   "source": [
    "load_args = { 'calibration' : calibration, \n",
    "             'mask' : mask,\n",
    "             }\n",
    "run_args = { 'verbosity' : 3,\n",
    "            }\n",
    "process = Protocols.ProcessorXS(load_args=load_args, run_args=run_args)"
   ]
  },
  {
   "cell_type": "code",
   "execution_count": 7,
   "metadata": {},
   "outputs": [
    {
     "name": "stdout",
     "output_type": "stream",
     "text": [
      "/home/yuzhang/Transfer/Autonomous/saxs/XS/data/AJ_exp1_x-0.4225_y0.1056_0.50s_299317.tif\n"
     ]
    }
   ],
   "source": [
    "fp  = 'AJ_exp1_x-0.4225_y0.1056_0.50s_299317.tif'\n",
    "\n",
    "infile = source_dir + fp\n",
    "\n",
    "print( infile )"
   ]
  },
  {
   "cell_type": "code",
   "execution_count": null,
   "metadata": {},
   "outputs": [],
   "source": []
  },
  {
   "cell_type": "code",
   "execution_count": 8,
   "metadata": {},
   "outputs": [
    {
     "name": "stdout",
     "output_type": "stream",
     "text": [
      "Running circular_average for AJ_exp1_x-0.4225_y0.1056_0.50s_299317\n",
      "Running thumbnails for AJ_exp1_x-0.4225_y0.1056_0.50s_299317\n",
      "Running circular_average_q2I for AJ_exp1_x-0.4225_y0.1056_0.50s_299317\n"
     ]
    }
   ],
   "source": [
    "protocols = [\n",
    "    #linecut_qr_fit(show_region=False, show=False, qz=0.0285, dq=0.006, q0=0.0030, sigma=0.0010, fit_range=[0.00, 0.010], plot_range=[0, 0.050, 0, None], trim_range=[0, 0.05]) ,\n",
    "    \n",
    "    #circular_average_q2I_fit(show=False, q0=0.0140, qn_power=2.5, sigma=0.0008, \n",
    "    #                         plot_range=[0, 0.06, 0, None], fit_range=[0.008, 0.022], toh5=True) ,\n",
    "    \n",
    "    #linecut_angle_fit_custom(q0=0.0135, dq=0.0035, show=False, show_region=False, toh5=True, overwrite_h5 = True ) ,   \n",
    "    #get_linecut_angle(q0=0.0135, dq=0.0035, show=False, show_region=False) ,       \n",
    "    \n",
    "    \n",
    "    circular_average(ylog=True, plot_range=[0, 0.15, None, None], toh5=True, overwrite_h5 = True ) , \n",
    "    Protocols.thumbnails(crop=None, resize=1.0, blur=None, cmap=cmap_vge, toh5=True, overwrite_h5 = True ) , \n",
    "    circular_average_q2I(show=False, q0=0.0140, qn_power=2.5, sigma=0.0008, \n",
    "                             plot_range=[0, 0.06, 0, None], fit_range=[0.008, 0.022], toh5=True) ,    \n",
    "    \n",
    "    \n",
    "    #Protocols.metadata_extract(patterns=patterns) ,\n",
    "    ]\n",
    "\n",
    "process.run([infile], protocols, output_dir=output_dir, force=True)"
   ]
  },
  {
   "cell_type": "markdown",
   "metadata": {},
   "source": [
    "## Load the saved h5 file"
   ]
  },
  {
   "cell_type": "code",
   "execution_count": 16,
   "metadata": {},
   "outputs": [],
   "source": [
    "hfile =   output_dir + 'AJ_exp1_x-0.4225_y0.1056_0.50s_299317.h5'"
   ]
  },
  {
   "cell_type": "code",
   "execution_count": 17,
   "metadata": {},
   "outputs": [],
   "source": [
    "h5r = h5todict( hfile )"
   ]
  },
  {
   "cell_type": "code",
   "execution_count": 18,
   "metadata": {},
   "outputs": [
    {
     "data": {
      "text/plain": [
       "dict_keys(['circular_average', 'circular_average_q2I', 'thumbnails'])"
      ]
     },
     "execution_count": 18,
     "metadata": {},
     "output_type": "execute_result"
    }
   ],
   "source": [
    "h5r.keys()"
   ]
  },
  {
   "cell_type": "code",
   "execution_count": 19,
   "metadata": {},
   "outputs": [
    {
     "data": {
      "text/plain": [
       "{'data': array([[1.76212456e-03, 4.28394182e+05, 8.43363182e-05, 1.12220131e+05],\n",
       "        [1.92450190e-03, 2.68652818e+05, 5.10987455e-05, 2.13546752e+04],\n",
       "        [2.10037034e-03, 1.83922529e+05, 5.73229333e-05, 1.20392956e+04],\n",
       "        ...,\n",
       "        [1.37652152e-01, 1.42857143e-01, 4.88277024e-05, 2.02041896e-01],\n",
       "        [1.37825280e-01, 3.00000000e-01, 4.76109034e-05, 3.27817717e-01],\n",
       "        [1.38015949e-01, 1.66666667e-01, 5.73289079e-05, 3.91101572e-01]]),\n",
       " 'label': array(['q', 'I(q)', 'q_err', 'I(q)_err'], dtype='<U8')}"
      ]
     },
     "execution_count": 19,
     "metadata": {},
     "output_type": "execute_result"
    }
   ],
   "source": [
    "h5r['circular_average']"
   ]
  },
  {
   "cell_type": "code",
   "execution_count": null,
   "metadata": {},
   "outputs": [],
   "source": []
  }
 ],
 "metadata": {
  "kernelspec": {
   "display_name": "Python 3",
   "language": "python",
   "name": "python3"
  },
  "language_info": {
   "codemirror_mode": {
    "name": "ipython",
    "version": 3
   },
   "file_extension": ".py",
   "mimetype": "text/x-python",
   "name": "python",
   "nbconvert_exporter": "python",
   "pygments_lexer": "ipython3",
   "version": "3.7.0"
  }
 },
 "nbformat": 4,
 "nbformat_minor": 2
}
