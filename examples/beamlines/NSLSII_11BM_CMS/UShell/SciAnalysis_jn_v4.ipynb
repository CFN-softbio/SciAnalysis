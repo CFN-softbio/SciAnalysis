{
 "cells": [
  {
   "cell_type": "markdown",
   "metadata": {},
   "source": [
    "# Data analysis with SciAnalysis\n",
    "\n",
    "last updated: 2022 Nov 3\n",
    "\n",
    "### Section A: SciAnalysis\n",
    "\n",
    "- A1. <span style='background :yellow' > __Tutorial to SciAnalysis__</span> (stadard routines: circular_average, qr_image, etc): If you are not familiar with SciAnalysis, go through Section A1 carefully, this will help you understand the code and run the routine data reduction/analysis. \n",
    "<span style='background :yellow' > __Note__</span> that the parameters in this jupyter notebook might not be correct for your experiment, check your data and runXS.py file. If you are comfortable with python, you should run the runXS.py (in the analysis folder) file directly.\n",
    "- A2. Stitching SAXS or WAXS raw data\n",
    "- A3. Background subtraction  \n",
    "- A4. Adjust fitting: load DAT file and fit\n",
    "- A5. Load results and plot: Load 2D, XM (roi, fitting result)\n",
    "\n",
    "### Section B: Experiment (RHeadrick3)\n",
    "\n",
    "- B1. Define an 'experiment': for comparimg multiple measuremeants e.g. mapping\n",
    "- B2. Plot\n",
    "\n",
    "\n",
    "--------------------------------------"
   ]
  },
  {
   "cell_type": "markdown",
   "metadata": {},
   "source": [
    "# &#9635; Section A: SciAnalysis"
   ]
  },
  {
   "cell_type": "markdown",
   "metadata": {},
   "source": [
    "## &#9632; A1. Tutorial to SciAnalysis\n",
    "\n",
    "Load raw data (TIFF) and do analysis\n",
    "\n",
    "### A1.1 Download SciAnalysis at: https://github.com/CFN-softbio/SciAnalysis\n",
    "\n",
    "### A1.2 Put your download path for SciAnalysis_PATH:"
   ]
  },
  {
   "cell_type": "code",
   "execution_count": null,
   "metadata": {},
   "outputs": [],
   "source": [
    "#%matplotlib nbagg\n",
    "\n",
    "# Imports\n",
    "########################################\n",
    "import sys, os, time, glob, imageio\n",
    "\n",
    "#SciAnalysis_PATH='/nsls2/data/cms/legacy/xf11bm/software/SciAnalysis/' ### Specify this\n",
    "SciAnalysis_PATH = '/home/etsai/BNL/Users/software/SciAnalysis/'\n",
    "SciAnalysis_PATH in sys.path or sys.path.append(SciAnalysis_PATH)\n",
    "\n",
    "from SciAnalysis import tools\n",
    "from SciAnalysis.XSAnalysis.Data import *\n",
    "from SciAnalysis.XSAnalysis import Protocols\n"
   ]
  },
  {
   "cell_type": "markdown",
   "metadata": {},
   "source": [
    "### A1.3. Specify beamline parameters \n",
    "\n",
    "Specify parameters based on SAXS/WAXS and beamline configuration."
   ]
  },
  {
   "cell_type": "code",
   "execution_count": null,
   "metadata": {},
   "outputs": [],
   "source": [
    "# Experimental parameters\n",
    "########################################\n",
    "## CMS\n",
    "if 1: ### RHeadrick3\n",
    "    calibration = Calibration(wavelength_A=0.7293) # 17 keV\n",
    "    calibration.set_image_size(981, height=1043) # Pilatus1M\n",
    "    calibration.set_pixel_size(pixel_size_um=172.0)\n",
    "    calibration.set_beam_position(473, 1043-387-15+11) #Headrick3, 2022 Oct 27, 17kev_normal_WAXSx-225_y22_z-142_x0.000_y0.000_10.00s_762645_waxs   \n",
    "    \n",
    "    calibration.set_distance(0.261)\n",
    "    mask_dir = SciAnalysis_PATH + '/SciAnalysis/XSAnalysis/masks/'\n",
    "    mask = Mask(mask_dir+'Dectris/Pilatus800k_gaps-mask.png')\n",
    "    mask.load(mask_dir+'NSLSII_11BM_CMS/Pilatus800k_CMS_badpixels-mask.png ')\n",
    "    \n",
    "if 0:\n",
    "    # Custom Dectris Pilatus 800k (lower-left modules removed)\n",
    "    calibration = Calibration(wavelength_A=0.9184) # 13.5 keV\n",
    "    calibration.set_image_size(981, height=1043) # Pilatus1M\n",
    "    calibration.set_pixel_size(pixel_size_um=172.0)\n",
    "    calibration.set_beam_position(475, 1043-386) \n",
    "\n",
    "    calibration.set_distance(0.259)\n",
    "\n",
    "    mask_dir = SciAnalysis_PATH + '/SciAnalysis/XSAnalysis/masks/'\n",
    "    mask = Mask(mask_dir+'Dectris/Pilatus800k_gaps-mask.png')\n",
    "    mask = Mask(mask_dir+'NSLSII_11BM_CMS/Pilatus800k_CMS_badpixels-mask.png')\n",
    "\n",
    "## SMI\n",
    "if 0:\n",
    "    calibration = Calibration(wavelength_A=0.770088) # 16.1 keV\n",
    "    calibration.set_image_size(981, height=1043) \n",
    "    calibration.set_pixel_size(pixel_size_um=172.0)\n",
    "    calibration.set_distance(8.320) # 8.300 nominal detector distance\n",
    "\n",
    "    ## With AgBH\n",
    "    calibration.set_distance(8.300) # 8.300 nominal detector distance\n",
    "    calibration.set_beam_position(492, 557) #2022 TSAXS, VS    ###Choose the one you need\n",
    "    #calibration.set_beam_position(492, 557+145) #2022 GISAXS, HE   ###Choose the one you need\n",
    "\n",
    "    mask_dir = SciAnalysis_PATH + '/SciAnalysis/XSAnalysis/masks/'\n",
    "    mask = Mask(mask_dir+'Dectris/Pilatus1M_main_gaps-mask.png')\n",
    "    mask.load('./mask_badpixel3.png')"
   ]
  },
  {
   "cell_type": "markdown",
   "metadata": {},
   "source": [
    "(Optional: If direct beam measurement is available, use that for the beam center, else use AgBH)"
   ]
  },
  {
   "cell_type": "code",
   "execution_count": null,
   "metadata": {},
   "outputs": [],
   "source": [
    "#### If direct beam measurement is available, use that for the beam center, else use AgBH\n",
    "\n",
    "EXPR_DIR = '/nsls2/data/cms/legacy/xf11bm/data/2022_3/JChoi/saxs/'  \n",
    "pattern = '*DirectBeam*'\n",
    "infiles = glob.glob(os.path.join(EXPR_DIR+'raw/', pattern+'.tiff'))\n",
    "print(infiles)\n",
    "\n",
    "data = Data2DScattering()\n",
    "data.load(infiles[0])\n",
    "img = data.data\n",
    "#img[0:400] = 0\n",
    "#plt.figure(); plt.imshow(np.log10(img))\n",
    "beam_center = [np.argmax(np.max(img,0)), np.argmax(np.max(img,1))]\n",
    "print('Beam center = {}'.format(beam_center))"
   ]
  },
  {
   "cell_type": "markdown",
   "metadata": {},
   "source": [
    "### A1.4. Specify data path and analysis parameters\n",
    "\n",
    "Specify data directory (source_dir) and where you want to save the outputs (output_dir).\n",
    "\n",
    "#### Use 'pattern' to specify the files you want to analyze. Can start with one specific file of interest to determine the analysis protocal and parameters (Sections A1.4 and A1.5), and then process all data.\n",
    "\n",
    "Specify the analysis protocal to use, e.g.\n",
    "- circular average integrate over the entire ring, and outputs Intensity vs. q in PNG and also in DAT\n",
    "- sector_average(name = 'sector_average_angle60_d10', angle=60, dangle=10) outputs the integration over dangle 10deg, with center at angle 60 (twelve oclock is 0 degree, goes clock-wise, so 60deg is two olock direction). Outputs are stored under the folder 'sector_average_angle60_d10'. Changing the name can be useful if you want different sector_average analysis.\n",
    "- See Readme in https://github.com/CFN-softbio/SciAnalysis\n"
   ]
  },
  {
   "cell_type": "code",
   "execution_count": null,
   "metadata": {
    "scrolled": true
   },
   "outputs": [],
   "source": [
    "# Files to analyze\n",
    "########################################\n",
    "#EXPR_DIR = '/nsls2/data/cms/legacy/xf11bm/data/2022_3/JHidalgo/waxs/'  ### CHANGE THIS\n",
    "EXPR_DIR = '/home/etsai/BNL/Users/CMS/2022C3/RHeadrick3/waxs/'\n",
    "source_dir = EXPR_DIR + 'raw/'   ### CHANGE THIS\n",
    "output_dir = EXPR_DIR + 'analysis/'   ### CHANGE THIS\n",
    "\n",
    "# patterns = ['*117840*','*117642*','*117644*','*117830*','*117832*'] ### CHANGE THIS\n",
    "patterns = ['*B6_N3_Trans3_map_vac_x-1.410_y-1.050_2.00s_763434*'] ### CHANGE THIS\n",
    "\n",
    "\n",
    "# Analysis to perform\n",
    "########################################\n",
    "\n",
    "load_args = { 'calibration' : calibration, \n",
    "             'mask' : mask,\n",
    "             #'rot180' : False,\n",
    "             #'flip' : False,\n",
    "             }\n",
    "run_args = { 'verbosity' : 3,\n",
    "            'fittype': 'voigt',\n",
    "            }\n",
    "\n",
    "run_args = { 'verbosity' : 3,\n",
    "             'rcParams': {'axes.labelsize': 25, 'xtick.labelsize': 20, 'ytick.labelsize': 20, \n",
    "                         'xtick.major.pad': 10, 'ytick.major.pad': 10, },\n",
    "            'fittype': 'voigt',\n",
    "            }\n",
    "\n",
    "process = Protocols.ProcessorXS(load_args=load_args, run_args=run_args)\n",
    "\n",
    "protocols = [\n",
    "    #Protocols.calibration_check(show=False, AgBH=True, q0=0.1076, dq=0.005, num_rings=10, ztrim=[0.2, 0.01], dpi=300) ,\n",
    "    #Protocols.circular_average(name='circular_average', ylog=True, plot_range=[0, 4.0, 5, None], gridlines=True, label_filename=True)  , #'csv'\n",
    "    \n",
    "    #Protocols.qr_image(blur=None, colorbar=True, save_results=['npz'], plot_buffers = [0.1, 0.1, 0.1, 0.1], transparent=False, label_filename=True) ,\n",
    "    #Protocols.thumbnails(name='thumbnails_vgehdr', crop=None, resize=0.5, cmap=cmap_vge_hdr, ztrim=[0.02, 0.001]) , # Pilatus800k\n",
    "\n",
    "    #Protocols.circular_average_q2I_fit(name='circular_fit_compare3', plot_range=[1.2, 1.8, -0.5, 2], qn_power=0.0, trim_range=[0.1, 3.5], fit_range=[1.4-0.04, 1.44+0.07], num_curves=1, q0=[1.415], sigma=0.02, gamma=0.02, show_curves=1, label_filename=True), \n",
    "   \n",
    "    #Protocols.q_phi_image(bins_relative=0.25, plot_range=[0, 3.5, -90, +90],transparent=False),\n",
    "    \n",
    "    Protocols.roi(show_region=0, qx=0.5, dqx=0.02, qz=2.2, dqz=0.02, prepend='stats_'),\n",
    "    Protocols.q_image(blur=None, colorbar=True, save_results=['npz'], transparent=False, label_filename=True, plot_buffers = [0.2, 0.1, 0.2, 0.1]),\n",
    "     \n",
    "    ]"
   ]
  },
  {
   "cell_type": "markdown",
   "metadata": {},
   "source": [
    "### A1.5. Apply analysis \n",
    "\n",
    "- Run this step to do the analysis. Repeat Sections A1.4 and A1.5 to adjust protocoal parameters and apply analysis.\n",
    "\n",
    "- If force=1, it will do analysis and overwrite old analysis results. \n",
    "\n",
    "- If the last line (process.monitor_loop) is used, it will run real-time analysis, ie, it keeps on checking if there are new files in the source_dir to apply the analysis protocals, force=0 in this case to process only new data."
   ]
  },
  {
   "cell_type": "code",
   "execution_count": null,
   "metadata": {},
   "outputs": [],
   "source": [
    "# Run\n",
    "########################################\n",
    "t0 = time.time()\n",
    "\n",
    "for pattern in patterns:   \n",
    "    infiles = glob.glob(os.path.join(source_dir, pattern+'.tiff')); \n",
    "    infiles.sort()    \n",
    "    \n",
    "    print('Processing {} infiles...'.format(len(infiles)))\n",
    "    process.run(infiles, protocols, output_dir=output_dir, force = 1) ### CHANGE THIS: force=0 or 1\n",
    "\n",
    "print('===== Process Time: {:.1f} min ====='.format((time.time()-t0)/60))\n",
    "\n",
    "\n",
    "########################################\n",
    "# This is typically only used at the beamline (it loops forever, watching for new files).\n",
    "#process.monitor_loop(source_dir=source_dir, pattern='*.tiff', protocols=protocols, output_dir=output_dir, force=False)\n",
    "\n"
   ]
  },
  {
   "cell_type": "markdown",
   "metadata": {},
   "source": [
    "## &#9632;  A2. Stitching 2D SAXS or WAXS \n",
    " \n",
    "#### Option 1. Current standard at the beamline: using Jupyter Notebook by RL \n",
    "\n",
    "1) Run ./software/StitchPilatus/stitch_2M.ipynb or stitch_800l.ipynb, this will output TIFF under ./stitched/\n",
    "\n",
    "2) Run analysis (Section A1) using the stitched TIFF files instead of the ./raw/ ones. Change mask.\n",
    "\n",
    "\n",
    "#### Option 2. Stitch files with SciAnalysis:\n",
    " \n",
    " 1) run stitch.py to stitch into .TIFF (This stitched TIFF is larger than what's done in Option 1.)\n",
    " \n",
    " 2) run runStitched.py to generate thumbnails etc"
   ]
  },
  {
   "cell_type": "markdown",
   "metadata": {},
   "source": [
    " ## &#9632;  A.3 Background subtraction \n",
    " \n",
    " Same as Section A1, except we specify background in __load_args__:\n",
    " \n",
    " - 'background' can be (1) a raw TIFF, (2) one float value, or (3) an np.ndarray\n",
    " \n",
    " - 'transmission_int' can be (1) the transmission CSV file under ./data/, or (2) one float value\n",
    " "
   ]
  },
  {
   "cell_type": "code",
   "execution_count": null,
   "metadata": {
    "scrolled": true
   },
   "outputs": [],
   "source": [
    "# Experimental parameters\n",
    "########################################\n",
    "calibration = Calibration(wavelength_A=0.9184) # 13.5 keV\n",
    "#calibration = Calibration(wavelength_A=0.9184) # 13.5 keV\n",
    "calibration.set_image_size(1475, height=1679) # Pilatus2M\n",
    "calibration.set_pixel_size(pixel_size_um=172.0)\n",
    "calibration.set_beam_position(738.0, 1679-593 ) # SAXSx -60, SAXSy -73\n",
    "#calibration.set_beam_position(738.0, 1679-563 ) # 8--12\n",
    "calibration.set_distance(2.0) # 5m\n",
    "\n",
    "mask_dir = SciAnalysis_PATH + '/SciAnalysis/XSAnalysis/masks/'\n",
    "mask = Mask(mask_dir+'Dectris/Pilatus2M_gaps-mask.png')\n",
    "mask.load(EXPR_DIR+'saxs/analysis/Pilatus2M_current-mask_Kap.png')\n",
    "\n",
    "# Files to analyze\n",
    "########################################\n",
    "#EXPR_DIR = '/nsls2/data/cms/legacy/xf11bm/data/2020_2/CKe/saxs/'\n",
    "EXPR_DIR = '/nsls2/data/cms/legacy/xf11bm/data/2022_2/Exxon3/'\n",
    "\n",
    "source_dir = EXPR_DIR + 'saxs/raw/'\n",
    "output_dir = EXPR_DIR + 'saxs/analysis_test/'\n",
    "\n",
    "pattern = 'MG*492830*'  \n",
    "\n",
    "infiles = glob.glob(os.path.join(source_dir, pattern+'.tiff'))\n",
    "infiles.sort()\n",
    "\n",
    "\n",
    "# Analysis to perform\n",
    "########################################\n",
    "load_args = { 'calibration' : calibration, \n",
    "             'mask' : mask,\n",
    "             #'background' : '/nsls2/data/cms/legacy/xf11bm/data/2020_2/CKe2/saxs/raw/'+'*0130*tiff',\n",
    "             'background' : EXPR_DIR+'/saxs/raw/MG_empty_BKG_x0.000_y0.000_10.00s_492839_saxs.tiff',\n",
    "             #'background' : 100,\n",
    "             'transmission_int': EXPR_DIR+'/data/Transmission_output.csv', # Can also specify an float value, eg 1.4\n",
    "             }\n",
    "\n",
    "run_args = { 'verbosity' : 3,\n",
    "            'rcParams': {'axes.labelsize': 25, \n",
    "                         'xtick.labelsize': 20, 'ytick.labelsize': 20, \n",
    "                         'xtick.major.pad': 10, 'ytick.major.pad': 10, },\n",
    "            }\n",
    "process = Protocols.ProcessorXS(load_args=load_args, run_args=run_args)\n",
    "\n",
    "protocols = [\n",
    "    Protocols.circular_average(name='circular_average', ylog=True, plot_range=[0, 4.0, 5, None], gridlines=True, label_filename=True)  , #'csv'   \n",
    "    Protocols.q_image(blur=None, colorbar=True, save_results=['npz'], plot_buffers = [0.1, 0.1, 0.1, 0.1], transparent=False, label_filename=True) ,     \n",
    "    ]\n",
    "\n",
    "\n",
    "# Run\n",
    "########################################\n",
    "t0 = time.time()\n",
    "\n",
    "infiles = glob.glob(os.path.join(source_dir, pattern+'.tiff')); \n",
    "infiles.sort()    \n",
    "print('Processing {} infiles...'.format(len(infiles)))\n",
    "process.run(infiles, protocols, output_dir=output_dir, force = 1)\n",
    "\n",
    "print('Process Time: {:.1f} min'.format((time.time()-t0)/60))\n",
    "\n",
    "\n",
    "#---------\n",
    "# process.load(infiles[0], **load_args)\n",
    "# data = process.handle_calibration(infile, **load_args)\n",
    "# process.handle_background(data, **load_args)\n"
   ]
  },
  {
   "cell_type": "markdown",
   "metadata": {},
   "source": [
    "#### Show before/after background subtraction"
   ]
  },
  {
   "cell_type": "code",
   "execution_count": null,
   "metadata": {
    "scrolled": true
   },
   "outputs": [],
   "source": [
    "import imageio\n",
    "\n",
    "## Load images\n",
    "#filename = 'CKe_S5_24k_4vac_x0.100_y-0.200_20.00s_2790326_saxs'\n",
    "filename = 'MG_19-110924-1_virgin_KapCap2mm_x-0.000_y0.000_10.00s_492830_saxs'\n",
    "\n",
    "infile0 = output_dir+'q_image/' + filename + '.png'\n",
    "infile1 = output_dir+'q_image/' + filename + '_rmbkg.png'\n",
    "img0 = imageio.imread(infile0)\n",
    "img1 = imageio.imread(infile1)\n",
    "\n",
    "\n",
    "## Plot\n",
    "plt.figure()\n",
    "plt.rcParams['figure.figsize'] = [10, 10] #[height, width] of the figure\n",
    "\n",
    "plt.subplot(2,2,1)\n",
    "plt.imshow(img0); plt.title('Original')\n",
    "plt.subplot(2,2,2)\n",
    "plt.imshow(img1); plt.title('Background removed')\n",
    "\n",
    "plt.show()\n",
    "\n",
    "\n",
    "## Load 1D\n",
    "infile0 = output_dir+'circular_average/' + filename + '.dat'\n",
    "infile1 = output_dir+'circular_average/' + filename + '_rmbkg.dat'\n",
    "line0 = np.loadtxt(infile0)\n",
    "line1 = np.loadtxt(infile1)\n",
    "\n",
    "## Plot\n",
    "plt.subplot(2,2,3)\n",
    "plt.plot(line0[:,0], np.log10(line0[:,2])); plt.grid()\n",
    "plt.subplot(2,2,4)\n",
    "plt.plot(line1[:,0], np.log10(line1[:,2])); plt.grid()\n",
    "\n",
    "plt.show()\n"
   ]
  },
  {
   "cell_type": "code",
   "execution_count": null,
   "metadata": {
    "scrolled": true
   },
   "outputs": [],
   "source": [
    "import re, difflib\n",
    "import pandas as pd\n",
    "\n",
    "infile = EXPR_DIR+'/data/Transmission_output.csv'\n",
    "df = pd.read_csv(infile)\n",
    "#print(df)\n",
    "\n",
    "filelist = df['b_scanID']\n",
    "\n",
    "b = filelist.isin([492809])\n",
    "print(b)\n"
   ]
  },
  {
   "cell_type": "markdown",
   "metadata": {},
   "source": [
    " ## &#9632;  A.4 Adjust fitting\n",
    " \n",
    "- Option 1. Can be done directly on raw data by specifying the propotcal in Section A1, \n",
    "- Option 2. Run the following section to load a 1D curve and apply fitting."
   ]
  },
  {
   "cell_type": "code",
   "execution_count": null,
   "metadata": {},
   "outputs": [],
   "source": [
    "## Load one DAT infile to test and select fitting range\n",
    "pattern = ''\n",
    "infiles = glob.glob(os.path.join(output_dir+'/circular_average/', pattern+'*.dat')); \n",
    "infile = infiles[0]\n",
    "if 0:  ## Load from analysis output .DAT\n",
    "    line = DataLine(infile) \n",
    "else:  ## General loading\n",
    "    data = np.loadtxt(infile)\n",
    "    line = DataLine(x = data[:,0], y = data[:,2])\n",
    "\n",
    "    \n",
    "## Fitting\n",
    "run_args = { 'verbosity' : 3,\n",
    "             #'fittype': 'voigt',\n",
    "            }\n",
    "results = {}\n",
    "\n",
    "protocol = Protocols.fit_peaks()\n",
    "lines = protocol._fit(line, results, **run_args, q0=[1, 2], num_curves=2, fit_range=[0.95, 2.5])\n",
    "\n",
    "\n",
    "## Plot\n",
    "#%matplotlib tk\n",
    "#lines._plot_main(**plot_args)\n",
    "\n",
    "for nn, line in enumerate(lines.lines):\n",
    "    if nn==0: \n",
    "        plt.plot(line.x, line.y, 'b:', linewidth=1, label=line.name)\n",
    "        plt.title(line.name)\n",
    "    else:\n",
    "        plt.plot(line.x, line.y, 'g', linewidth=2, label=line.name)\n",
    "        \n",
    "    plt.grid()\n",
    "    \n",
    "    \n",
    "    ## Plot reference lines\n",
    "    xs = [0.7, 1.8]\n",
    "    for x in xs:\n",
    "        plt.axvline(x, color='r', dashes=[3,3])\n",
    "        \n",
    "    \n",
    "    ## Plot range\n",
    "    plt.xlim([0.4, 2.5])\n",
    "    \n",
    "\n",
    "        \n",
    "plt.show()\n",
    "\n",
    "#lines._plot_main()\n",
    "#lines._plot_extra()\n",
    "\n",
    "# from SciAnalysis.CurveAnalysis.Data import *\n",
    "# line = DataLineStructuredSort(infile)\n",
    "# lines = line.fit_peaks(line, num_curves=1, **run_args)\n"
   ]
  },
  {
   "cell_type": "markdown",
   "metadata": {},
   "source": []
  },
  {
   "cell_type": "markdown",
   "metadata": {},
   "source": [
    "## &#9632;  A.5 Load results and plot\n",
    "### &#9632;  A5.1 Load 2D in q"
   ]
  },
  {
   "cell_type": "code",
   "execution_count": null,
   "metadata": {},
   "outputs": [],
   "source": [
    "#%matplotlib nbagg\n",
    "\n",
    "#output_dir = '/nsls2/data/cms/legacy/xf11bm/data/2022_3/RHeadrick3/waxs/analysis/'\n",
    "output_dir = '/home/etsai/BNL/Users/CMS/2022C3/RHeadrick3/waxs/analysis/'\n",
    "infile = output_dir+'q_image/B6_N3_Trans3_map_vac_x-1.410_y-1.050_2.00s_763434_waxs.npz'\n",
    "print(infile)\n",
    "\n",
    "data = np.load(infile)\n",
    "#print(list(data))\n",
    "\n",
    "image = data['image']\n",
    "x_axis = data['x_axis']\n",
    "y_axis = data['y_axis']\n",
    "x_scale = data['x_scale']\n",
    "y_scale = data['y_scale']\n",
    "\n",
    "\n",
    "##### Can plot in log or not; Adjust cmap for colormap, clim for plot range\n",
    "plt.figure(); \n",
    "plt.pcolormesh(x_axis, y_axis, np.log(image), cmap='viridis') #plot in log intensity\n",
    "\n",
    "plt.colorbar()\n",
    "plt.clim([0, 6])\n",
    "\n",
    "[qx, qz] = [0.48, 2.175]\n",
    "[dqx, dqz] = [0.02, 0.02]\n",
    "plt.plot([qx-dqx, qx+dqx], [qz-dqz, qz-dqz], 'r-')\n",
    "plt.plot([qx-dqx, qx+dqx], [qz+dqz, qz+dqz], 'r-')\n",
    "plt.plot([qx-dqx, qx-dqx], [qz-dqz, qz+dqz], 'r-')\n",
    "plt.plot([qx+dqx, qx+dqx], [qz-dqz, qz+dqz], 'r-')\n",
    "\n",
    "print([qx, qz] /x_scale)\n",
    "plt.title(infile)"
   ]
  },
  {
   "cell_type": "markdown",
   "metadata": {},
   "source": [
    "### &#9632;  A5.2 Extract analysis results from .XML to .TXT and .NPY\n",
    " \n",
    " E.g. fitting parameters (output from runX.py) are saved in ./analysis/results/*.xml\n",
    " \n",
    " For one or multiple measurements, this script load the .XML and save it to .TXT and .NPY"
   ]
  },
  {
   "cell_type": "code",
   "execution_count": null,
   "metadata": {},
   "outputs": [],
   "source": [
    "## Functions for extracting results from xml files\n",
    "########################################\n",
    "from SciAnalysis.Result import * # Results() object\n",
    "def extract_results(infiles, extractions, outfile, verbosity=3):\n",
    "    if verbosity>=3: print(\"Extracting results for {} infiles...\".format(len(infiles)))   \n",
    "    results = Results().extract_multi_save_txt(outfile, infiles, extractions, verbosity=verbosity)\n",
    "    \n",
    "    return results\n",
    "\n",
    "def load_file(infile, verbosity=3):\n",
    "    if verbosity>=3:\n",
    "        print(\" Loading data from file: {}\".format(infile))\n",
    "    \n",
    "    with open(infile, 'r') as fin:\n",
    "        names = fin.readline().split()\n",
    "        lines = fin.readlines()\n",
    "\n",
    "    if verbosity>=4:\n",
    "        print('  Saved data has {} columns:'.format(len(names)))\n",
    "        print(names)\n",
    "        \n",
    "    return names, lines\n",
    "\n",
    "\n",
    "# Files to analyze\n",
    "########################################\n",
    "EXPR_DIR = '/nsls2/data/cms/legacy/xf11bm/data/2021_2/SSenanayak/waxs/'\n",
    "verbosity = 3\n",
    "\n",
    "source_dir = EXPR_DIR + 'stitched_analysis_test/'\n",
    "output_dir = EXPR_DIR + 'stitched_analysis_test/'\n",
    "\n",
    "pattern = 'NT' \n",
    "\n",
    "## Extract results from XML files\n",
    "results_dir = source_dir + 'results/' # Location of xml files\n",
    "infiles = glob.glob(os.path.join(results_dir, '{}*.xml'.format(pattern)))\n",
    "outfile = os.path.join(output_dir, '{}-extracted.txt'.format(pattern))\n",
    "\n",
    "\n",
    "extractions = [ #[ 'metadata_extract', ['x_position', 'y_position', 'sequence_ID', 'anneal_time'] ] ,\n",
    "            ['circular_fit_compare3', ['fit_peaks_prefactor1', 'fit_peaks_x_center1', 'fit_peaks_sigma1', 'fit_peaks_chi_squared', 'fit_peaks_d0', 'fit_peaks_grain_size' ] ],\n",
    "            ]    \n",
    "\n",
    "results = extract_results(infiles, extractions, outfile=outfile, verbosity=verbosity)\n",
    "\n",
    "\n",
    "## Export results of interest to an array\n",
    "names, lines = load_file(outfile, verbosity=verbosity)\n",
    "\n",
    "columns = [\n",
    "    #'metadata_extract__x_position', \n",
    "    #'metadata_extract__y_position', \n",
    "    #'metadata_extract__anneal_time',\n",
    "    'circular_fit_compare3__fit_peaks_chi_squared'\n",
    "    ]\n",
    "\n",
    "indices = [names.index(col) for col in columns]\n",
    "\n",
    "data = []\n",
    "for i, line in enumerate(lines):\n",
    "    line = line.split()\n",
    "    if len(line)>=len(indices):\n",
    "        row = [ float(line[i]) for i in indices ]\n",
    "        data.append(row)\n",
    "\n",
    "print('\\n----- Output array:\\n {}'.format(data))\n",
    "        \n",
    "## Save \n",
    "if 0: \n",
    "    outfile = os.path.join(output_dir, '{}-{:d}.npy'.format(pattern, len(data)))\n",
    "    np.save(outfile, data)\n",
    "    if verbosity>=3:\n",
    "        print('  Saved data as'.format(outfile))\n",
    "\n",
    "        \n",
    "    "
   ]
  },
  {
   "cell_type": "markdown",
   "metadata": {},
   "source": [
    "### &#9632;  A5.3 Load ROI"
   ]
  },
  {
   "cell_type": "code",
   "execution_count": null,
   "metadata": {},
   "outputs": [],
   "source": [
    "import pandas as pd\n",
    "\n",
    "## Get infile\n",
    "#pattern = 'B6_N3_Trans3_map_vac_x-0.006_y-1.050_2.00s_763448_waxs'\n",
    "pattern = 'B6_N3_Trans3_map_vac_x-1.410_y-1.050_2.00s_763434'\n",
    "infiles = glob.glob(os.path.join(output_dir+'/roi/', pattern+'*.txt')); \n",
    "print('Plotting {} infiles...'.format(len(infiles)))\n",
    "\n",
    "## Load \n",
    "stats_list = []\n",
    "for nn, infile in enumerate(infiles):\n",
    "    data =  pd.read_table(infile, delimiter = ' ', header=None)\n",
    "    if nn==0: print(data)\n",
    "        \n",
    "    temp = []\n",
    "    for ii in np.arange(3,13):\n",
    "        temp.append(data[2][ii])\n",
    "    stats_list.append(temp)\n",
    "\n",
    "    \n",
    "stats_array = np.asarray(stats_list)\n",
    "\n",
    "\n",
    "## Plot \n",
    "#%matplotlib tk\n",
    "plt.rcParams['figure.figsize'] = [10, 5] #[height, width] of the figure\n",
    "\n",
    "for ii in np.arange(0,stats_array.shape[1]):\n",
    "    plt.plot(stats_array[:,ii])\n"
   ]
  },
  {
   "cell_type": "markdown",
   "metadata": {},
   "source": [
    "## &#9632; A.6 Run analysis on a raw file directly"
   ]
  },
  {
   "cell_type": "code",
   "execution_count": null,
   "metadata": {},
   "outputs": [],
   "source": [
    "#%matplotlib nbagg\n",
    "\n",
    "# Imports\n",
    "########################################\n",
    "import sys, os, time, glob, imageio\n",
    "\n",
    "SciAnalysis_PATH='/nsls2/data/cms/legacy/xf11bm/software/SciAnalysis/' ### Specify this\n",
    "#SciAnalysis_PATH = '/home/etsai/BNL/Users/software/SciAnalysis/'\n",
    "SciAnalysis_PATH in sys.path or sys.path.append(SciAnalysis_PATH)\n",
    "\n",
    "from SciAnalysis import tools\n",
    "from SciAnalysis.XSAnalysis.Data import *\n",
    "from SciAnalysis.XSAnalysis import Protocols\n",
    "\n",
    "if 1: \n",
    "    calibration = Calibration(wavelength_A=0.7293) # 17 keV\n",
    "    calibration.set_image_size(981, height=1043) # Pilatus1M\n",
    "    calibration.set_pixel_size(pixel_size_um=172.0)\n",
    "    calibration.set_beam_position(473, 1043-387-15+11) #Headrick3, 2022 Oct 27, 17kev_normal_WAXSx-225_y22_z-142_x0.000_y0.000_10.00s_762645_waxs   \n",
    "    \n",
    "    calibration.set_distance(0.261)\n",
    "    mask_dir = SciAnalysis_PATH + '/SciAnalysis/XSAnalysis/masks/'\n",
    "    mask = Mask(mask_dir+'Dectris/Pilatus800k_gaps-mask.png')\n",
    "    #mask.load(mask_dir+'NSLSII_11BM_CMS/Pilatus800k_CMS_badpixels-mask.png ')"
   ]
  },
  {
   "cell_type": "code",
   "execution_count": null,
   "metadata": {},
   "outputs": [],
   "source": [
    "## Load one DAT infile to test and select fitting range\n",
    "EXPR_DIR = '/nsls2/data/cms/legacy/xf11bm/data/2022_3/RHeadrick3/waxs/raw/'\n",
    "\n",
    "pattern = 'B5_BPET_R2_1_vac'\n",
    "infiles = glob.glob(os.path.join(EXPR_DIR, pattern+'*.tiff')); \n",
    "print('Len = {}'.format(len(infiles)))\n",
    "infile = infiles[0]\n",
    "\n",
    "output_dir = './'"
   ]
  },
  {
   "cell_type": "code",
   "execution_count": null,
   "metadata": {},
   "outputs": [],
   "source": [
    "load_args = { 'calibration' : calibration, \n",
    "             'mask' : mask,\n",
    "             #'rot180' : False,\n",
    "             #'flip' : True, # PSCCD\n",
    "             }\n",
    "run_args = { 'verbosity' : 3,\n",
    "            #'save_results' : ['xml', 'plots', 'txt', 'hdf5'],\n",
    "            }\n",
    "\n",
    "process = Protocols.ProcessorXS(load_args=load_args, run_args=run_args)\n",
    "\n",
    "line_sector = []\n",
    "for infile in infiles:\n",
    "    data = process.load(infiles[0], calibration=calibration, mask=mask, run_args=run_args)\n",
    "\n",
    "    #protocols = [Protocols.circular_average(ylog=False, plot_range=[0, 4.5, 1000, None], dezing=True),]\n",
    "\n",
    "    #x = Protocols.thumbnails(name=None) \n",
    "    #x.run(data, output_dir)\n",
    "\n",
    "    #line_c = data.circular_average_q_bin(error=False, bins_relative=1.0)\n",
    "    line_sector.append(data.ctor_average_q_bin(angle=60, dangle=5))\n",
    "\n",
    "    #results = protocol()\n",
    "\n",
    "    #process.run(infiles, protocols, output_dir=output_dir, force=True)"
   ]
  },
  {
   "cell_type": "code",
   "execution_count": null,
   "metadata": {},
   "outputs": [],
   "source": [
    "x_axis = line_sector[0].x\n",
    "y = []\n",
    "for ii in np.arange(len(line_sector)):\n",
    "    y.append(line_sector[ii].y)\n",
    "    plt.plot(x_axis,y[ii]+ii*10)"
   ]
  },
  {
   "cell_type": "code",
   "execution_count": null,
   "metadata": {},
   "outputs": [],
   "source": [
    "#%matplotlib inline\n",
    "plt.plot(x, y)"
   ]
  },
  {
   "cell_type": "code",
   "execution_count": null,
   "metadata": {},
   "outputs": [],
   "source": [
    "df_line_s = pd.DataFrame(line_s.y, columns=['I'])"
   ]
  },
  {
   "cell_type": "code",
   "execution_count": null,
   "metadata": {},
   "outputs": [],
   "source": []
  },
  {
   "cell_type": "code",
   "execution_count": null,
   "metadata": {},
   "outputs": [],
   "source": []
  },
  {
   "cell_type": "code",
   "execution_count": null,
   "metadata": {},
   "outputs": [],
   "source": []
  },
  {
   "cell_type": "code",
   "execution_count": null,
   "metadata": {},
   "outputs": [],
   "source": []
  },
  {
   "cell_type": "code",
   "execution_count": null,
   "metadata": {},
   "outputs": [],
   "source": []
  },
  {
   "cell_type": "code",
   "execution_count": null,
   "metadata": {},
   "outputs": [],
   "source": []
  },
  {
   "cell_type": "markdown",
   "metadata": {},
   "source": [
    "# &#9635; Section 0: AutoProfiler (testing)"
   ]
  },
  {
   "cell_type": "code",
   "execution_count": null,
   "metadata": {},
   "outputs": [],
   "source": [
    "import sqlite3\n",
    "import numpy as np\n",
    "import pandas as pd"
   ]
  },
  {
   "cell_type": "code",
   "execution_count": null,
   "metadata": {},
   "outputs": [],
   "source": [
    "data_dir = '/nsls2/data/cms/legacy/xf11bm/data/2022_3/RHeadrick3/waxs/analysis/results'\n",
    "sqlitecon = sqlite3.connect(data_dir+\"/results.db\")\n",
    "df_analyses = pd.read_sql_query(\"select * from analyses\", sqlitecon)\n",
    "df_results = pd.read_sql_query(\"select * from results\", sqlitecon)\n"
   ]
  },
  {
   "cell_type": "code",
   "execution_count": null,
   "metadata": {},
   "outputs": [],
   "source": [
    "df_analyses.start_timestamp = pd.to_datetime(df_analyses.start_timestamp, unit=\"s\")\n",
    "df_analyses.end_timestamp = pd.to_datetime(df_analyses.end_timestamp, unit=\"s\")\n",
    "df_analyses.save_timestamp = pd.to_datetime(df_analyses.save_timestamp, infer_datetime_format=True)\n"
   ]
  },
  {
   "cell_type": "code",
   "execution_count": null,
   "metadata": {},
   "outputs": [],
   "source": [
    "#Convert list or dict to dataframe:\n",
    "x =[2,2,2]\n",
    "df_list = pd.DataFrame(x, columns=['angle'])"
   ]
  },
  {
   "cell_type": "code",
   "execution_count": null,
   "metadata": {},
   "outputs": [],
   "source": [
    "def get_latest_results_list(sqlitecon, sort=None):\n",
    "    '''Retrieves a list with all the analysis results (for every protocol and every filename).\n",
    "    In cases of duplicate runs (same protocol run multiple times on a given filename), the most recent result (latest start_timestampe) is assumed to be the right one.\n",
    "    The return is a pandas dataframe where the rows are distinct filenames, and the columns are analysis results.\n",
    "    '''\n",
    "    \n",
    "    # Some queries to help understand the structure of the data in results.db:\n",
    "    #query = \"select distinct filename from analyses order by filename ASC /* list of beamline measurements */\"\n",
    "    #query = \"select filename, protocol, start_timestamp from analyses order by filename ASC /* list of analysis runs */\"\n",
    "    #query = \"select distinct protocol||'__'||result_name AS result_key from results order by result_key ASC /* list of distinct analysis results */\"\n",
    "    \n",
    "    # Get a list of all the analysis runs, and count how many duplicates (repeat of same analysis) there are:\n",
    "    query_analysis_rowcount = \"\"\"\n",
    "        select \n",
    "            distinct filename, \n",
    "            protocol, \n",
    "            start_timestamp, \n",
    "            analysis_id, \n",
    "            row_number() over (partition by filename, protocol order by start_timestamp desc) as rn \n",
    "        from \n",
    "            analyses \n",
    "        order by \n",
    "            filename ASC \n",
    "        /* List all analyses, with rn keeping track of whether that analysis ran multiple times. */\n",
    "        \"\"\"\n",
    "    \n",
    "    # Select only the first row from the above query (i.e. we consider only the most recent analysis, for any given protocol\n",
    "    #query = \"select * from ( select distinct filename, protocol, start_timestamp, analysis_id, row_number() over (partition by filename, protocol order by start_timestamp desc) as rn from analyses order by filename ASC /* List all analyses, with rn keeping track of whether that analysis ran multiple times. */ ) where rn = 1;select * from ( select distinct filename, protocol, start_timestamp, analysis_id, row_number() over (partition by filename, protocol order by start_timestamp desc) as rn from analyses order by filename ASC ) where rn = 1;\"\n",
    "    query_analysis_distinct = f\"\"\"\n",
    "        select \n",
    "            * \n",
    "        from \n",
    "            ( {query_analysis_rowcount} ) \n",
    "        where \n",
    "            rn = 1\n",
    "        /* Select only the first entry from each set of duplicate analysis runs. */\n",
    "        \"\"\"\n",
    "    \n",
    "    # Combine the distinct list of filenames+analysis with the results, to yield a table of every result for every file\n",
    "    #query =\"select *from results INNER JOIN  ( select * from ( select distinct filename, protocol, start_timestamp, analysis_id, row_number() over (partition by filename, protocol order by start_timestamp desc) as rn from analyses order by filename ASC) where rn = 1  ) analysis_runs  ON results.analysis_id = analysis_runs.analysis_id\"\n",
    "    query = f\"\"\"\n",
    "        select \n",
    "            analysis_runs.filename,\n",
    "            analysis_runs.protocol,\n",
    "            analysis_runs.start_timestamp,\n",
    "            results.result_name,\n",
    "            results.value,\n",
    "            results.error,\n",
    "            results.value_text\n",
    "        from \n",
    "            results\n",
    "        INNER JOIN \n",
    "            ( {query_analysis_distinct} ) analysis_runs\n",
    "        on \n",
    "            results.analysis_id = analysis_runs.analysis_id\n",
    "        where\n",
    "            results.value is not NULL OR results.value_text is not NULL\n",
    "            /*AND results.protocol='linecut_qz_fit'\n",
    "            AND results.result_name='fit_peaks_x_center1'*/ /*Examples of selecting a subset of results.../*\n",
    "        order by\n",
    "            filename ASC, analysis_runs.protocol ASC\n",
    "        /* Generate table of all (most recent) results. */\n",
    "        \"\"\"\n",
    "\n",
    "    \n",
    "    df = pd.read_sql_query(query, sqlitecon)\n",
    "\n",
    "    # Convert data type for timestamps\n",
    "    df.start_timestamp = pd.to_datetime(df.start_timestamp, unit=\"s\")\n",
    "    \n",
    "    # Optionally sort the table by some column(s)\n",
    "    if sort is not None:\n",
    "        if type(sort)==str:\n",
    "            df = df.sort_values([sort])\n",
    "        elif isinstance(sort, (list,typle)):\n",
    "            df = df.sort_values(sort)\n",
    "    \n",
    "    return df\n",
    "\n",
    "df_list = get_latest_results_list(sqlitecon, sort=None)\n",
    "#df_list"
   ]
  },
  {
   "cell_type": "code",
   "execution_count": null,
   "metadata": {},
   "outputs": [],
   "source": [
    "def get_latest_results_table(sqlitecon, sort=None):\n",
    "    '''Generates a table with all the analysis results (for every protocol and every filename).\n",
    "    In cases of duplicate runs (same protocol run multiple times on a given filename), the most recent result (latest start_timestampe) is assumed to be the right one.\n",
    "    The return is a pandas dataframe where the rows are distinct filenames, and the columns are analysis results.\n",
    "    '''\n",
    "    \n",
    "    \n",
    "    df = get_latest_results_list(sqlitecon)\n",
    "    \n",
    "    # Unique measurements (samples)\n",
    "    query = \"select distinct filename from analyses order by filename ASC /* list of beamline measurements */\"\n",
    "    df_measurements = pd.read_sql_query(query, sqlitecon)\n",
    "    filenames = df_measurements['filename']\n",
    "    \n",
    "    # Full list of analysis result names\n",
    "    query = \"select distinct protocol, result_name, protocol||'__'||result_name AS result_key from results order by result_key ASC /* list of distinct analysis results */\"\n",
    "    df_result_keys = pd.read_sql_query(query, sqlitecon)\n",
    "    #result_keys = df_result_keys['result_key']\n",
    "    \n",
    "    \n",
    "    # Reorganize the data into a giant table, where the rows are the measurements/samples,\n",
    "    # and the columns are each of the analysis results (protocol, result).\n",
    "    # TODO: This reorg right now is very inefficient. I generate a dict for each row of the new table\n",
    "    # and convert this list into df. It should be changed to use efficient pandas-based methods directly.\n",
    "    data = []\n",
    "    for i, filename in enumerate(filenames):\n",
    "        if i%100==0:\n",
    "            print(\"Organizing results ({:,d}/{:,d} = {:.1f}%) for {}\".format(i, len(filenames), 100*i/len(filenames), filename))\n",
    "        \n",
    "\n",
    "        matching_rows = df[df['filename'].str.match(filename)]\n",
    "        values = matching_rows[['protocol', 'result_name', 'value', 'value_text']]\n",
    "\n",
    "        row = {'filename': filename}\n",
    "        values.reset_index()\n",
    "        for index, value in values.iterrows(): # Iteration over pandas is slow; TODO: change\n",
    "            result_key = \"{}__{}\".format(value['protocol'], value['result_name'])\n",
    "            result_value = value['value_text'] if np.isnan(value['value']) else value['value']\n",
    "            row[result_key] = result_value\n",
    "\n",
    "        data.append(row)\n",
    "            \n",
    "    print(\"Converting to pandas DataFrame\")\n",
    "    df = pd.DataFrame(data)\n",
    "        \n",
    "    \n",
    "    # Optionally sort the table by some column(s)\n",
    "    if sort is not None:\n",
    "        if type(sort)==str:\n",
    "            df = df.sort_values([sort])\n",
    "        elif isinstance(sort, (list,typle)):\n",
    "            df = df.sort_values(sort)\n",
    "    \n",
    "    return df\n",
    "\n",
    "df_table = get_latest_results_table(sqlitecon, sort=None)\n",
    "#df_table"
   ]
  },
  {
   "cell_type": "code",
   "execution_count": null,
   "metadata": {},
   "outputs": [],
   "source": [
    "df_ROI = df_table.loc[df_table['filename'].str.contains('GD_insitu_1wtC24PGMEA_30C_21uL_2')] "
   ]
  },
  {
   "cell_type": "code",
   "execution_count": null,
   "metadata": {},
   "outputs": [],
   "source": []
  },
  {
   "cell_type": "code",
   "execution_count": null,
   "metadata": {},
   "outputs": [],
   "source": []
  },
  {
   "cell_type": "markdown",
   "metadata": {},
   "source": [
    "# &#9635; Section B: Experiment\n",
    "\n",
    "All analysis results are saved in the __output_dir__. You can view the results there directly. \n",
    "\n",
    "To compare multiple measurements, define an __experiment__ (series of measuremeants) and load/plot results here. This useful if you want to do comparison over many measurements, or to navigate the q positions on the plots etc. __The experiment class is defined in SciAnalysis/ExpAnalysis/Experiment.py__\n"
   ]
  },
  {
   "cell_type": "code",
   "execution_count": 1,
   "metadata": {},
   "outputs": [],
   "source": [
    "#%matplotlib nbagg\n",
    "\n",
    "# Imports\n",
    "########################################\n",
    "import sys, os, time, glob, imageio, datetime\n",
    "from silx.io.dictdump import dicttoh5, h5todict\n",
    "\n",
    "SciAnalysis_PATH='/nsls2/data/cms/legacy/xf11bm/software/SciAnalysis/' ### Specify this\n",
    "#SciAnalysis_PATH = '/home/etsai/BNL/Users/software/SciAnalysis/'\n",
    "SciAnalysis_PATH in sys.path or sys.path.append(SciAnalysis_PATH)\n",
    "\n",
    "from SciAnalysis.XSAnalysis.Data import *\n",
    "from SciAnalysis.ExpAnalysis import Experiment\n",
    "from SciAnalysis.ExpAnalysis import Tools\n",
    "\n",
    "import sqlite3\n",
    "import pandas as pd"
   ]
  },
  {
   "cell_type": "markdown",
   "metadata": {},
   "source": [
    "## &#9632; B.1 Define Experiment (one or multiple series of measurement)\n",
    "\n",
    "### B1.1 Define and load files\n",
    "\n",
    "1. Specify experiment directory, e.g. '/nsls2/data/cms/legacy/xf11bm/data/2022_3/RHeadrick3'\n",
    "\n",
    "2. Specify samples to compare, use regular expression (https://regexr.com/), e.g. 'LL_X' will load samples LL_X1, LL_X2 and so on; 'LL_X.+pos1' will load samples with filenames LL_X*pos1\n",
    "\n"
   ]
  },
  {
   "cell_type": "code",
   "execution_count": null,
   "metadata": {},
   "outputs": [],
   "source": [
    "# EXPR_DIR = '/nsls2/data/cms/legacy/xf11bm/data/2022_3/RHeadrick3/' ### CHANGE THIS\n",
    "# #EXPR_DIR = '/home/etsai/BNL/Users/CMS/2022C3/RHeadrick3/'\n",
    "\n",
    "# exp = Experiment.experiment('B6_map', folder=EXPR_DIR, det='waxs') #, beamline=None) ### CHANGE THIS, this expriment name can be arbitrary \n",
    "# exp.samples = ['B6_N3_Trans3_map_vac_x-1'] ### Specify the sample\n",
    "\n",
    "# for sample in exp.samples:\n",
    "#     exp.defFiles_query(fn=sample, folder=EXPR_DIR, scanid = [750000, 900000], verbose=1) \n",
    "#     #exp.defFiles(fn=sample) #, verbose=1)   \n",
    "    "
   ]
  },
  {
   "cell_type": "code",
   "execution_count": 2,
   "metadata": {},
   "outputs": [
    {
     "name": "stdout",
     "output_type": "stream",
     "text": [
      "At beamline, importing databroker\n",
      "/nsls2/data/cms/legacy/xf11bm/data/2022_2/LZhu5/PE_120C_fastscan_50V_30V_1mms_500pa_run1/\n",
      "Len(results) = 1\n",
      "[0%] \n",
      "Loaded 600 files, took 2.5403692722320557s.\n"
     ]
    }
   ],
   "source": [
    "EXPR_DIR = '/nsls2/data/cms/legacy/xf11bm/data/2022_2/LZhu5/PE_120C_fastscan_50V_30V_1mms_500pa_run1'\n",
    "\n",
    "exp = Experiment.experiment('PE_120C_fastscan_50V_30V_1mms_500pa_run1', folder=EXPR_DIR, det='maxs', beamline='cms') #, beamline=None) ### CHANGE THIS, this expriment name can be arbitrary \n",
    "filenames = ['PE_120C_fastscan_50V_30V_1mms_500pa_run1_x-0.002_y0.001_0.10s'] ### Specify the sample\n",
    "\n",
    "for filename in filenames:\n",
    "    exp.defFiles_query(fn=filename, folder=EXPR_DIR, scanid = [600000, 900000], verbose=1) "
   ]
  },
  {
   "cell_type": "code",
   "execution_count": 3,
   "metadata": {},
   "outputs": [
    {
     "data": {
      "text/plain": [
       "{'exp': 'PE_120C_fastscan_50V_30V_1mms_500pa_run1',\n",
       " 'type': 'maxs',\n",
       " 'expinfo': {'filename': ['PE_120C_fastscan_50V_30V_1mms_500pa_run1_x-0.002_y0.001_0.10s_630795.tiff'],\n",
       "  'time': [1658263923.0090597],\n",
       "  'clock': [86.55493211746216],\n",
       "  'scan_id': [630795],\n",
       "  'uid': ['c5381c6e-cd74-47ba-82cf-3af692ff23bd'],\n",
       "  'filenumber': 600,\n",
       "  'series_measure': True,\n",
       "  'num_frames': 600,\n",
       "  'exposure_time': 0.095},\n",
       " 'data': {'det': {'roi1': [], 'roi2': [], 'roi3': [], 'roi4': []}},\n",
       " 'corr': [],\n",
       " 'corrdata': {},\n",
       " 'mdata_list': [],\n",
       " 'metadata': {},\n",
       " 'exp_protocol': [],\n",
       " 'analysis': {}}"
      ]
     },
     "execution_count": 3,
     "metadata": {},
     "output_type": "execute_result"
    }
   ],
   "source": [
    "exp.dict"
   ]
  },
  {
   "cell_type": "code",
   "execution_count": null,
   "metadata": {},
   "outputs": [],
   "source": [
    "#exp_df = pd.DataFrame.from_dict(exp.dict['expinfo'])"
   ]
  },
  {
   "cell_type": "markdown",
   "metadata": {},
   "source": [
    "### B1.2 Load analysis data\n",
    "\n",
    "#### &#9673; Option 1) Run analysis"
   ]
  },
  {
   "cell_type": "markdown",
   "metadata": {},
   "source": [
    "Specify calibration & Load filenames"
   ]
  },
  {
   "cell_type": "code",
   "execution_count": 5,
   "metadata": {},
   "outputs": [],
   "source": [
    "#%matplotlib nbagg\n",
    "# Imports\n",
    "########################################\n",
    "import sys, os, time, glob, imageio, datetime\n",
    "\n",
    "SciAnalysis_PATH='/nsls2/data/cms/legacy/xf11bm/software/SciAnalysis/' ### Specify this\n",
    "#SciAnalysis_PATH = '/home/etsai/BNL/Users/software/SciAnalysis/'\n",
    "SciAnalysis_PATH in sys.path or sys.path.append(SciAnalysis_PATH)\n",
    "\n",
    "from SciAnalysis import tools\n",
    "from SciAnalysis.XSAnalysis.Data import *\n",
    "from SciAnalysis.XSAnalysis import Protocols\n",
    "\n",
    "if 1: \n",
    "    calibration = Calibration(wavelength_A=0.7293) # 17 keV\n",
    "    calibration.set_image_size(981, height=1043) # Pilatus1M\n",
    "    calibration.set_pixel_size(pixel_size_um=172.0)\n",
    "    calibration.set_beam_position(473, 1043-387-15+11) #Headrick3, 2022 Oct 27, 17kev_normal_WAXSx-225_y22_z-142_x0.000_y0.000_10.00s_762645_waxs   \n",
    "    \n",
    "    calibration.set_distance(0.261)\n",
    "    mask_dir = SciAnalysis_PATH + '/SciAnalysis/XSAnalysis/masks/'\n",
    "    mask = Mask(mask_dir+'Dectris/Pilatus800k_gaps-mask.png')\n",
    "    #mask.load(mask_dir+'NSLSII_11BM_CMS/Pilatus800k_CMS_badpixels-mask.png ')\n",
    "       \n",
    "###--------------------------------------------------------- \n",
    "source_dir = exp.folder+'/'+exp.det+'/raw/'\n",
    "\n",
    "### Filenames to load\n",
    "Nfile = exp.dict['expinfo']['filenumber']\n",
    "        \n",
    "# for regular scan/snap measurements\n",
    "if not exp.dict['expinfo']['series_measure']:\n",
    "    filenames = self.dict['expinfo']['filename']\n",
    "\n",
    "# series measurements\n",
    "else: \n",
    "    infile = exp.dict['expinfo']['filename'][0]\n",
    "\n",
    "    # to remove extension\n",
    "    if infile[:-5] == '.tiff':\n",
    "        infile = infile[:-5]\n",
    "\n",
    "    # to remove scanid in the filename for the data before 2023 (incorrect scanid) and add the exposure_period\n",
    "    jan2023 = time.mktime(datetime.datetime.strptime('01/01/2023',\"%m/%d/%Y\").timetuple())\n",
    "    if exp.dict['expinfo']['time'][0] < jan2023:\n",
    "        infile = '_'.join(infile.split('_')[:-1]) \n",
    "        exposure_period = float(infile.split('_')[-1].split('s')[0])\n",
    "        exp.dict['expinfo']['exposure_period'] = exposure_period\n",
    "        scan_id = exp.dict['expinfo']['scan_id'][0]\n",
    "        infile = '_'.join([infile,str(scan_id+1)])\n",
    "\n",
    "    filenames = ['_'.join([infile,str(kk).zfill(6)]) for kk in range(Nfile)]\n",
    "    \n",
    "    "
   ]
  },
  {
   "cell_type": "markdown",
   "metadata": {},
   "source": [
    "Specify analysis protocols and run analysis"
   ]
  },
  {
   "cell_type": "code",
   "execution_count": 6,
   "metadata": {},
   "outputs": [
    {
     "name": "stdout",
     "output_type": "stream",
     "text": [
      "[0%]\n",
      "[33%]\n",
      "[67%]\n",
      "Done!\n"
     ]
    }
   ],
   "source": [
    "load_args = { 'calibration' : calibration, \n",
    "             'mask' : mask,\n",
    "             #'rot180' : False,\n",
    "             #'flip' : True, # PSCCD\n",
    "             }\n",
    "run_args = { 'verbosity' : 3,\n",
    "            #'save_results' : ['xml', 'plots', 'txt', 'hdf5'],\n",
    "            }\n",
    "\n",
    "process = Protocols.ProcessorXS(load_args=load_args, run_args=run_args)\n",
    "\n",
    "line_sector = []\n",
    "for ii, infile in enumerate(filenames):\n",
    "    if np.mod(ii, 200)==0:\n",
    "        print('[{:0.0f}%]'.format(ii/Nfile*100))\n",
    "    data = process.load(source_dir+infile+'_'+exp.det+'.tiff', calibration=calibration, mask=mask, run_args=run_args)\n",
    "\n",
    "    #line_cir = data.circular_average_q_bin(error=False, bins_relative=1.0)\n",
    "    line_sector.append(data.sector_average_q_bin(angle=60, dangle=5))\n",
    "\n",
    "    \n",
    "print('Done!')    \n",
    "\n",
    "### Put analysis results into the experiment dictionary (exp.dict) for downstream analysis/visualization\n",
    "protocol = 'sector_average'\n",
    "exp.dict['data'][protocol] = {}\n",
    "for nn, line in enumerate(line_sector):\n",
    "    exp.dict['data'][protocol][str(nn)] = {}\n",
    "    exp.dict['data'][protocol][str(nn)]['q'] = line_sector[nn].x    \n",
    "    exp.dict['data'][protocol][str(nn)]['I(q)'] = line_sector[nn].y"
   ]
  },
  {
   "cell_type": "code",
   "execution_count": 10,
   "metadata": {},
   "outputs": [],
   "source": [
    "#exp_df_analysis = pd.DataFrame.from_dict(exp.dict['data'])"
   ]
  },
  {
   "cell_type": "markdown",
   "metadata": {},
   "source": [
    "#### &#9673; Option 2) Load SciAnalysis data\n",
    "\n",
    "Load all analysis by default or e.g. have keys=['circular_average', 'linecut_angle_fit']\n",
    "\n"
   ]
  },
  {
   "cell_type": "code",
   "execution_count": null,
   "metadata": {},
   "outputs": [],
   "source": [
    "exp.loadSciAnalysisData(keys=['circular_average'],verbose=1)\n"
   ]
  },
  {
   "cell_type": "code",
   "execution_count": null,
   "metadata": {},
   "outputs": [],
   "source": [
    "exp.loadSciAnalysisData(keys = ['roi'], verbose=1) # Load all analysis by default, or have keys=[]\n",
    "exp.dict['data'].keys()"
   ]
  },
  {
   "cell_type": "code",
   "execution_count": null,
   "metadata": {},
   "outputs": [],
   "source": [
    "#exp.dict['data']['circular_average']['0']['q']"
   ]
  },
  {
   "cell_type": "code",
   "execution_count": null,
   "metadata": {},
   "outputs": [],
   "source": [
    "#exp.dict['data']['circular_average'].keys()"
   ]
  },
  {
   "cell_type": "markdown",
   "metadata": {},
   "source": [
    "#### &#9642; Perform correlation"
   ]
  },
  {
   "cell_type": "code",
   "execution_count": 7,
   "metadata": {},
   "outputs": [
    {
     "name": "stdout",
     "output_type": "stream",
     "text": [
      "sector_average\n"
     ]
    }
   ],
   "source": [
    "exp.doCorr(corrs = [['2Darray']])"
   ]
  },
  {
   "cell_type": "code",
   "execution_count": 8,
   "metadata": {},
   "outputs": [
    {
     "data": {
      "text/plain": [
       "dict_keys(['q', 'I_array', 'file_index', 'time_series'])"
      ]
     },
     "execution_count": 8,
     "metadata": {},
     "output_type": "execute_result"
    }
   ],
   "source": [
    "protocol = 'sector_average'\n",
    "exp.dict['corrdata']['2Darray'][protocol].keys()"
   ]
  },
  {
   "cell_type": "code",
   "execution_count": null,
   "metadata": {},
   "outputs": [],
   "source": [
    "#exp.dict['corrdata']['2Darray'][protocol]['time_series']"
   ]
  },
  {
   "cell_type": "markdown",
   "metadata": {},
   "source": [
    "#### &#9642; Plot data"
   ]
  },
  {
   "cell_type": "code",
   "execution_count": 12,
   "metadata": {},
   "outputs": [],
   "source": [
    "%matplotlib inline"
   ]
  },
  {
   "cell_type": "code",
   "execution_count": 13,
   "metadata": {},
   "outputs": [
    {
     "data": {
      "image/png": "[encoded data removed]",
      "text/plain": [
       "<Figure size 800x400 with 1 Axes>"
      ]
     },
     "metadata": {},
     "output_type": "display_data"
    }
   ],
   "source": [
    "protocol = 'sector_average'\n",
    "exp.plotWaterfall(key = protocol, y_spacing=0.07, lw=0.2, plot_xrange=np.arange(500))"
   ]
  },
  {
   "cell_type": "code",
   "execution_count": null,
   "metadata": {},
   "outputs": [],
   "source": []
  },
  {
   "cell_type": "code",
   "execution_count": null,
   "metadata": {},
   "outputs": [],
   "source": [
    "exp.plotHeatmap(key = protocol)"
   ]
  },
  {
   "cell_type": "code",
   "execution_count": null,
   "metadata": {},
   "outputs": [],
   "source": []
  },
  {
   "cell_type": "markdown",
   "metadata": {},
   "source": [
    "### B1.2 Get metadata\n",
    "\n",
    "We can either extract metadata from the filename, or read from the databse. Currently it is easier to extract from filename if not working at the beamline. "
   ]
  },
  {
   "cell_type": "markdown",
   "metadata": {},
   "source": [
    "#### &#9673; Option 1) Extract 'metadata' from filename"
   ]
  },
  {
   "cell_type": "code",
   "execution_count": null,
   "metadata": {},
   "outputs": [],
   "source": [
    "infiles = exp.dict['expinfo']['filename']\n",
    "print('Number of files: {}'.format(len(infiles)))\n",
    "\n",
    "sample_x = []\n",
    "sample_y = []\n",
    "scan_id = []\n",
    "for ii, infile in enumerate(infiles):\n",
    "    temp = infile.split('_')\n",
    "    if ii==0: print(temp)\n",
    "    sample_x.append(float(temp[-4][1:]))\n",
    "    sample_y.append(float(temp[-3][1:]))\n",
    "    scan_id.append(int(temp[-1]))\n",
    "\n",
    "exp.dict['metadata']['sample_x'] = np.array(sample_x)\n",
    "exp.dict['metadata']['sample_y'] = np.array(sample_y)\n",
    "exp.dict['metadata']['scan_id'] = np.array(scan_id)"
   ]
  },
  {
   "cell_type": "code",
   "execution_count": null,
   "metadata": {},
   "outputs": [],
   "source": [
    "if 0:  # For testing \n",
    "    print(infiles[0])\n",
    "    temp = infiles[0].split('_')\n",
    "    print(temp)\n",
    "    x = float(temp[-4][1:])\n",
    "    print(x)"
   ]
  },
  {
   "cell_type": "markdown",
   "metadata": {},
   "source": [
    "#### &#9673; Option 2) Load metadata from h5 if available. Note this is for the selective dataset not complete database. DSSI is working on exporting the database."
   ]
  },
  {
   "cell_type": "code",
   "execution_count": null,
   "metadata": {},
   "outputs": [],
   "source": [
    "h5_path = EXPR_DIR+\"/data/\"\n",
    "h5_file = 'B6_N3_Trans3_map_vac_x-1_metadata.h5'\n",
    "exp.dict['metadata'] = h5todict(h5_path+h5_file)"
   ]
  },
  {
   "cell_type": "markdown",
   "metadata": {},
   "source": [
    "#### &#9673; Option 3) [Currently only available at beamline workstation]  \n",
    "&#9656; If you don't know the metadata you have/need:"
   ]
  },
  {
   "cell_type": "code",
   "execution_count": 14,
   "metadata": {},
   "outputs": [
    {
     "name": "stdout",
     "output_type": "stream",
     "text": [
      "uid\n",
      "time\n",
      "calibration_wavelength_A\n",
      "experiment_type\n",
      "scan_id\n",
      "experiment_group\n",
      "experiment_project\n",
      "experiment_cycle\n",
      "calibration_energy_keV\n",
      "experiment_proposal_number\n",
      "beam_intensity_expected\n",
      "platform_beam\n",
      "experiment_SAF_number\n",
      "experiment_alias_directory\n",
      "experiment_user\n",
      "plan_type\n",
      "plan_name\n",
      "detectors\n",
      "num_points\n",
      "num_intervals\n",
      "plan_args\n",
      "hints\n",
      "sample_exposure_time\n",
      "sample_measurement_ID\n",
      "sample_savename_extra\n",
      "sample_name\n",
      "sample_clock\n",
      "sample_temperature\n",
      "sample_temperature_A\n",
      "sample_temperature_B\n",
      "sample_temperature_C\n",
      "sample_temperature_D\n",
      "sample_x\n",
      "sample_motor_x\n",
      "sample_y\n",
      "sample_motor_y\n",
      "sample_th\n",
      "sample_motor_th\n",
      "sample_savename\n",
      "measure_type\n",
      "series\n",
      "detector_sequence_ID\n",
      "beam_size_x_mm\n",
      "beam_size_y_mm\n",
      "beamline_mode\n",
      "motor_SAXSx\n",
      "motor_SAXSy\n",
      "motor_WAXSx\n",
      "motor_WAXSy\n",
      "motor_WAXSz\n",
      "motor_smx\n",
      "motor_smy\n",
      "motor_sth\n",
      "motor_bsx\n",
      "motor_bsy\n",
      "motor_bsphi\n",
      "measure_series_num_frames\n",
      "filename\n",
      "exposure_time\n"
     ]
    }
   ],
   "source": [
    "if 1:  # Set to 1 if you don't know the metadata you have/need\n",
    "    exp.listMetadata(verbosity=3)\n",
    "    #exp.listMetadata(verbosity=-1) "
   ]
  },
  {
   "cell_type": "markdown",
   "metadata": {},
   "source": [
    "&#9656; Or specify the metadata directly"
   ]
  },
  {
   "cell_type": "code",
   "execution_count": 18,
   "metadata": {},
   "outputs": [
    {
     "name": "stdout",
     "output_type": "stream",
     "text": [
      "[0%] \n",
      "loadMetadata time = 0.0s\n"
     ]
    },
    {
     "data": {
      "text/plain": [
       "{'filename': ['PE_120C_fastscan_50V_30V_1mms_500pa_run1_x-0.002_y0.001_0.10s_630795.tiff'],\n",
       " 'scan_id': [630795],\n",
       " 'sample_x': [-0.001500000000000501],\n",
       " 'sample_y': [0.0006500000000002615]}"
      ]
     },
     "execution_count": 18,
     "metadata": {},
     "output_type": "execute_result"
    }
   ],
   "source": [
    "exp.dict['mdata_list'] = ['filename', 'scan_id', 'sample_x', 'sample_y'] # Load x and y positions for each measurement\n",
    "exp.loadMetadata() \n",
    "exp.dict['metadata']"
   ]
  },
  {
   "cell_type": "markdown",
   "metadata": {},
   "source": [
    "&#9656; Save metadata (as h5) "
   ]
  },
  {
   "cell_type": "code",
   "execution_count": null,
   "metadata": {},
   "outputs": [],
   "source": [
    "h5_path = EXPR_DIR+\"/data/\"\n",
    "h5_file = exp.samples[0]+'_metadata.h5'\n",
    "dicttoh5(exp.dict['metadata'], h5_path+h5_file)\n",
    "print(h5_path+h5_file)\n"
   ]
  },
  {
   "cell_type": "code",
   "execution_count": 20,
   "metadata": {},
   "outputs": [],
   "source": [
    "#exp_df_md = pd.DataFrame.from_dict(exp.dict['metadata'])"
   ]
  },
  {
   "cell_type": "code",
   "execution_count": null,
   "metadata": {},
   "outputs": [],
   "source": []
  },
  {
   "cell_type": "code",
   "execution_count": null,
   "metadata": {},
   "outputs": [],
   "source": []
  },
  {
   "cell_type": "markdown",
   "metadata": {},
   "source": [
    "## &#9632; B.2 Visualization\n",
    "\n",
    "### B2.1 Plot 2D Color Image"
   ]
  },
  {
   "cell_type": "markdown",
   "metadata": {},
   "source": [
    "#### For plotting mapping results, load the x and y positions from the metadata (specified and loaded in B1.2)"
   ]
  },
  {
   "cell_type": "code",
   "execution_count": 21,
   "metadata": {},
   "outputs": [
    {
     "name": "stdout",
     "output_type": "stream",
     "text": [
      "Len(y_pos) = 1\n"
     ]
    }
   ],
   "source": [
    "x_pos = exp.dict['metadata']['sample_x']\n",
    "y_pos = exp.dict['metadata']['sample_y']\n",
    "print('Len(y_pos) = {}'.format(len(y_pos)))"
   ]
  },
  {
   "cell_type": "markdown",
   "metadata": {},
   "source": [
    "#### Load the analysis (reduced) data, e.g. load the linecut (of specific q) and define feature as the angle at which the peak max occurs, it can also be the max peak intensity, roi intensity etc. This section should be modified to output some 'feature' that you want to visualize its map."
   ]
  },
  {
   "cell_type": "markdown",
   "metadata": {},
   "source": [
    "&#9656; Example 1: load linecut and find the angle with max peak intensity"
   ]
  },
  {
   "cell_type": "code",
   "execution_count": null,
   "metadata": {},
   "outputs": [],
   "source": [
    "reduced_data = exp.dict['data']['linecut_angle_fit']\n",
    "print('Len(reduced_data) = {}'.format(len(reduced_data)))\n",
    "\n",
    "feature_list = []\n",
    "for ii in np.arange(0,len(reduced_data)):\n",
    "    angle = reduced_data[ii]['angle']\n",
    "    I = reduced_data[ii]['I']\n",
    "    chi = angle[np.argmax(I)]\n",
    "    feature_list.append(chi)\n"
   ]
  },
  {
   "cell_type": "markdown",
   "metadata": {},
   "source": [
    "&#9656; Example 2: load roi"
   ]
  },
  {
   "cell_type": "code",
   "execution_count": null,
   "metadata": {},
   "outputs": [],
   "source": [
    "reduced_data = exp.dict['data']['roi']\n",
    "print('Len(reduced_data) = {}'.format(len(reduced_data)))\n",
    "print(reduced_data.keys())\n",
    "\n",
    "#reduced_data['stats_average'][0]\n",
    "\n",
    "feature_list = []\n",
    "for ii in np.arange(0,len(reduced_data)):\n",
    "    feature_list.append(reduced_data['stats_average'][ii])"
   ]
  },
  {
   "cell_type": "markdown",
   "metadata": {},
   "source": [
    "#### Plot option 1"
   ]
  },
  {
   "cell_type": "code",
   "execution_count": null,
   "metadata": {},
   "outputs": [],
   "source": [
    "## If plot does not show up, enable this nbagg once and try again then disable\n",
    "%matplotlib nbagg \n",
    "\n",
    "plt.figure(); plt.clf()\n",
    "\n",
    "#plt.tripcolor(x_pos, y_pos, feature_list)  \n",
    "plt.tricontourf(x_pos, y_pos, feature_list) \n",
    "plt.colorbar()\n",
    "plt.xlabel('x')\n",
    "plt.ylabel('y')\n",
    "plt.title(exp.samples[0])\n",
    "plt.axis('equal')\n",
    "#plt.plot(x_pos, y_pos, 'w.')"
   ]
  },
  {
   "cell_type": "markdown",
   "metadata": {},
   "source": [
    "#### Plot option 2"
   ]
  },
  {
   "cell_type": "code",
   "execution_count": null,
   "metadata": {},
   "outputs": [],
   "source": [
    "## If plot does not show up, enable this nbagg once and try again then disable\n",
    "#%matplotlib nbagg \n",
    "\n",
    "plot_interp = ['linear', 0.01] \n",
    "x_pos_fine, y_pos_fine, feature = Tools.interp_map(x_pos, y_pos, feature_list, plot_interp) \n",
    "\n",
    "plt.figure(); \n",
    "extent = (np.nanmin(x_pos_fine), np.nanmax(x_pos_fine), np.nanmin(y_pos_fine), np.nanmax(y_pos_fine))\n",
    "\n",
    "plt.imshow(feature, extent=extent, origin='lower', cmap='jet', clim=[-180, 180])  \n",
    "plt.colorbar()\n",
    "plt.xlabel('x [mm]')\n",
    "plt.ylabel('y [mm]')\n",
    "plt.title(exp.samples[0])"
   ]
  },
  {
   "cell_type": "markdown",
   "metadata": {},
   "source": [
    "#### Plot option 3 (Quiver plot)"
   ]
  },
  {
   "cell_type": "code",
   "execution_count": null,
   "metadata": {},
   "outputs": [],
   "source": [
    "u_list = []\n",
    "v_list = []\n",
    "chi_list = []\n",
    "for chi in feature_list:\n",
    "    u = np.cos(np.deg2rad(chi)) \n",
    "    v = np.sin(np.deg2rad(chi)) \n",
    "    u_list.append(u)\n",
    "    v_list.append(v)\n",
    "    chi_list.append(chi)"
   ]
  },
  {
   "cell_type": "code",
   "execution_count": null,
   "metadata": {},
   "outputs": [],
   "source": [
    "ax.quiver?"
   ]
  },
  {
   "cell_type": "code",
   "execution_count": null,
   "metadata": {},
   "outputs": [],
   "source": [
    "fig, ax = plt.subplots(figsize=[8,6])\n",
    "\n",
    "q = ax.quiver(x_pos, y_pos, u_list, v_list, chi_list, cmap = 'plasma') #,clim=[0,0.3])\n",
    "\n",
    "#ax.set_xlim([-0.2,5])\n",
    "#ax.set_ylim([-0.2,5])\n",
    "ax.axis('equal')\n",
    "ax.set_xlabel('$x$ (mm)')\n",
    "ax.set_ylabel('$y$ (mm)')\n",
    "cb = plt.colorbar(q)\n",
    "plt.show()\n",
    "plt.title(exp.samples[0])\n",
    "# plt.savefig('SAXS mapping_quiver polt_colorbar.png', dpi = 600)\n",
    "\n"
   ]
  },
  {
   "cell_type": "code",
   "execution_count": null,
   "metadata": {},
   "outputs": [],
   "source": [
    "exp.dict['data'].keys()"
   ]
  },
  {
   "cell_type": "markdown",
   "metadata": {},
   "source": [
    "## &#9632; B.3 Export dictionary to h5"
   ]
  },
  {
   "cell_type": "markdown",
   "metadata": {},
   "source": [
    "#### Save metadata to h5"
   ]
  },
  {
   "cell_type": "code",
   "execution_count": null,
   "metadata": {},
   "outputs": [],
   "source": [
    "print(EXPR_DIR)\n",
    "h5_path = EXPR_DIR+\"/data/\"\n",
    "h5_file = 'metadata.h5'\n",
    "dicttoh5(exp.dict, h5_path+h5_file)"
   ]
  },
  {
   "cell_type": "code",
   "execution_count": null,
   "metadata": {},
   "outputs": [],
   "source": [
    "exp.dict['metadata']"
   ]
  },
  {
   "cell_type": "markdown",
   "metadata": {},
   "source": [
    "#### Save experiment to h5"
   ]
  },
  {
   "cell_type": "code",
   "execution_count": null,
   "metadata": {},
   "outputs": [],
   "source": [
    "print(EXPR_DIR)\n",
    "h5_path = EXPR_DIR+\"/data/\"\n",
    "h5_file = 'test.h5'\n",
    "dicttoh5(exp.dict, h5_path+h5_file)"
   ]
  },
  {
   "cell_type": "markdown",
   "metadata": {},
   "source": [
    "#### Read a h5 file to a python dictionary\n",
    "\n",
    "Note that indices are load as strings, not full recovery from dict-->h5-->dict"
   ]
  },
  {
   "cell_type": "code",
   "execution_count": null,
   "metadata": {},
   "outputs": [],
   "source": [
    "h5_path = EXPR_DIR+\"/data/\"\n",
    "h5_file = 'test.h5'\n",
    "test = h5todict(h5_path+h5_file)"
   ]
  },
  {
   "cell_type": "code",
   "execution_count": null,
   "metadata": {},
   "outputs": [],
   "source": [
    "test"
   ]
  },
  {
   "cell_type": "code",
   "execution_count": null,
   "metadata": {},
   "outputs": [],
   "source": [
    "#dicttoh5?"
   ]
  },
  {
   "cell_type": "code",
   "execution_count": null,
   "metadata": {},
   "outputs": [],
   "source": [
    "# dicttoh5(exp.dict, \"test.h5\", h5path=EXPR_DIR+\"/data/\", mode = 'w')"
   ]
  },
  {
   "cell_type": "code",
   "execution_count": null,
   "metadata": {},
   "outputs": [],
   "source": []
  },
  {
   "cell_type": "code",
   "execution_count": null,
   "metadata": {},
   "outputs": [],
   "source": []
  }
 ],
 "metadata": {
  "kernelspec": {
   "display_name": "Python 3 (ipykernel)",
   "language": "python",
   "name": "python3"
  },
  "language_info": {
   "codemirror_mode": {
    "name": "ipython",
    "version": 3
   },
   "file_extension": ".py",
   "mimetype": "text/x-python",
   "name": "python",
   "nbconvert_exporter": "python",
   "pygments_lexer": "ipython3",
   "version": "3.9.15"
  },
  "toc-autonumbering": false,
  "toc-showcode": false,
  "toc-showmarkdowntxt": false
 },
 "nbformat": 4,
 "nbformat_minor": 4
}
